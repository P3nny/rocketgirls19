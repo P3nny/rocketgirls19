{
 "cells": [
  {
   "cell_type": "markdown",
   "metadata": {
    "deletable": true,
    "editable": true
   },
   "source": [
    "# Installationparty for 'Code like a journalist' at \\#nr17\n",
    "\n",
    "This installation-advise is shamelessly taken from the [Djangogirls Tutorial]\n",
    "\n",
    "> This work is licensed under the Creative Commons Attribution-ShareAlike 4.0 International License. To view a copy of this license, visit [https://creativecommons.org/licenses/by-sa/4.0/](https://creativecommons.org/licenses/by-sa/4.0/)\n",
    "\n",
    "You will: \n",
    "-  Install Python\n",
    "-  Set up virtualenv, Jupyter Notebook and librarys like Pandas \n",
    "-  Install a code editor\n",
    "-  Install Git\n",
    "-  Create a GitHub account\n",
    "-  Enjoy the workshop!\n",
    "\n"
   ]
  },
  {
   "cell_type": "markdown",
   "metadata": {
    "collapsed": true,
    "deletable": true,
    "editable": true
   },
   "source": [
    "# Install Python\n",
    "\n",
    "For readers at home: this chapter is covered in the Installing Python & Code Editor video.\n",
    "\n",
    "This section is based on a tutorial by Geek Girls Carrots (https://github.com/ggcarrots/django-carrots)\n",
    "\n",
    "We want you to install Python 3.5, so if you have any earlier version, you will need to upgrade it."
   ]
  },
  {
   "cell_type": "markdown",
   "metadata": {
    "deletable": true,
    "editable": true
   },
   "source": [
    "## Windows\n",
    "\n",
    "There are three possibilities to do this if you're using a windows machine: \n",
    "- If you do not have admin rights: Use WinPython. It can be installed as a portable app and comes with a lot of the scientific libraries preinstalled: [WinPython](https://sourceforge.net/projects/winpython/files/WinPython_3.5/3.5.3.1/)\n",
    "- You can consider to use a linux system that is preinstalled on a USB-stick. You have to boot your device from USB in this case, but your system stays unchainged.  \n",
    "- For the full installation read on:  "
   ]
  },
  {
   "cell_type": "markdown",
   "metadata": {
    "deletable": true,
    "editable": true
   },
   "source": [
    "First check whether your computer is running a 32-bit version or a 64-bit version of Windows at https://support.microsoft.com/en-au/kb/827218. You can download Python for Windows from the website https://www.python.org/downloads/windows/. Click on the \"Latest Python 3 Release - Python x.x.x\" link. If your computer is running a 64-bit version of Windows, download the Windows x86-64 executable installer. Otherwise, download the Windows x86 executable installer. After downloading the installer, you should run it (double-click on it) and follow the instructions there.\n",
    "\n",
    "One thing to watch out for: During the installation you will notice a window marked \"Setup\". Make sure you tick the \"Add Python 3.5 to PATH\" checkbox and click on \"Install Now\", as shown here:"
   ]
  },
  {
   "cell_type": "markdown",
   "metadata": {
    "collapsed": false,
    "deletable": true,
    "editable": true
   },
   "source": [
    "![](python-installation-options.png)"
   ]
  },
  {
   "cell_type": "markdown",
   "metadata": {
    "deletable": true,
    "editable": true
   },
   "source": [
    "Don't forget to add Python to the Path\n",
    "\n",
    "In upcoming steps, you'll be using the Windows Command Line (which we'll also tell you about). For now, if you need to type in some commands, go to Start menu → All Programs → Accessories → Command Prompt. You can also hold in the Windows key and press the \"R\"-key until the \"Run\" window pops up. To open the Command Line, type \"cmd\" and press enter in the \"Run\" window. (On newer versions of Windows, you might have to search for \"Command Prompt\" since it's sometimes hidden.)"
   ]
  },
  {
   "cell_type": "markdown",
   "metadata": {
    "collapsed": false,
    "deletable": true,
    "editable": true
   },
   "source": [
    "![](windows-plus-r.png)"
   ]
  },
  {
   "cell_type": "markdown",
   "metadata": {
    "deletable": true,
    "editable": true
   },
   "source": [
    "Type \"cmd\" in the \"Run\" window\n",
    "\n",
    "Note: if you are using an older version of Windows (7, Vista, or any older version) and the Python 3.5.x installer fails with an error, you can try either:\n",
    "\n",
    "install all Windows Updates and try to install Python 3.5 again; or\n",
    "install an older version of Python, e.g., 3.4.4.\n",
    "If you install an older version of Python, the installation screen may look a bit different than shown above. Make sure you scroll down to see \"Add python.exe to Path\", then click the button on the left and pick \"Will be installed on local hard drive\":\n",
    "\n",
    "Add Python to the Path, older versions"
   ]
  },
  {
   "cell_type": "markdown",
   "metadata": {
    "collapsed": false,
    "deletable": true,
    "editable": true
   },
   "source": [
    "![](add_python_to_windows_path.png)"
   ]
  },
  {
   "cell_type": "markdown",
   "metadata": {
    "deletable": true,
    "editable": true
   },
   "source": [
    "## OS X\n",
    "\n",
    "Note Before you install Python on OS X, you should ensure your Mac settings allow installing packages that aren't from the App Store. Go to System Preferences (it's in the Applications folder), click \"Security & Privacy,\" and then the \"General\" tab. If your \"Allow apps downloaded from:\" is set to \"Mac App Store,\" change it to \"Mac App Store and identified developers.\"\n",
    "\n",
    "You need to go to the website https://www.python.org/downloads/release/python-351/ and download the Python installer:\n",
    "\n",
    "Download the Mac OS X 64-bit/32-bit installer file,\n",
    "Double click python-3.5.1-macosx10.6.pkg to run the installer."
   ]
  },
  {
   "cell_type": "markdown",
   "metadata": {
    "deletable": true,
    "editable": true
   },
   "source": [
    "## Linux\n",
    "\n",
    "It is very likely that you already have Python installed out of the box. To check if you have it installed (and which version it is), open a console and type the following command:\n",
    "\n",
    "command-line\n",
    "$ python3 --version\n",
    "Python 3.5.1\n",
    "If you have a different 'micro version' of Python installed, e.g. 3.5.0, then you don't have to upgrade. If you don't have Python installed, or if you want a different version, you can install it as follows:\n",
    "\n",
    "### Debian or Ubuntu\n",
    "\n",
    "Type this command into your console:\n",
    "\n",
    "command-line\n",
    "$ sudo apt-get install python3.5\n",
    "\n",
    "### Other Linux: \n",
    "https://tutorial.djangogirls.org/en/installation/"
   ]
  },
  {
   "cell_type": "markdown",
   "metadata": {
    "deletable": true,
    "editable": true
   },
   "source": [
    "## Testing\n",
    "\n",
    "Verify the installation was successful by opening the Terminal application and running the python3 command:\n",
    "\n",
    "```command-line\n",
    "$ python3 --version\n",
    "Python 3.5.1```\n",
    "NOTE: If you're on Windows and you get an error message that python3 wasn't found, try using python (without the 3) and check if it still might be a version of Python 3.5.\n",
    "\n",
    "If you have any doubts, or if something went wrong and you have no idea what to do next, please ask your coach! Sometimes things don't go smoothly and it's better to ask for help from someone with more experience."
   ]
  },
  {
   "cell_type": "markdown",
   "metadata": {
    "deletable": true,
    "editable": true
   },
   "source": [
    "## Create a GitHub account\n",
    "\n",
    "Go to [GitHub.com](https://github.com/) and sign up for a new, free user account."
   ]
  },
  {
   "cell_type": "markdown",
   "metadata": {
    "deletable": true,
    "editable": true
   },
   "source": [
    "## Installing Git \n",
    "\n",
    "> https://tutorial.djangogirls.org/en/deploy/\n",
    "\n",
    "**Git** is a \"version control system\" used by a lot of programmers. This software can track changes to files over time so that you can recall specific versions later. A bit like the \"track changes\" feature in Microsoft Word, but much more powerful.\n",
    "**GitHub** is a platform to share code and to collaborate.\n",
    "\n",
    "### Windows\n",
    "<!--sec data-title=\"Windows\" data-id=\"git_install_windows\"\n",
    "data-collapse=true ces-->\n",
    "\n",
    "You can download Git from [git-scm.com](https://git-scm.com/). You can hit \"next\" on all steps except for one; in the fifth step entitled \"Adjusting your PATH environment\", choose \"Use Git and optional Unix tools from the Windows Command Prompt\" (the bottom option). Other than that, the defaults are fine. Checkout Windows-style, commit Unix-style line endings is good.\n",
    "\n",
    "<!--endsec-->\n",
    "\n",
    "### OSX\n",
    "<!--sec data-title=\"OS X\" data-id=\"git_install_OSX\"\n",
    "data-collapse=true ces-->\n",
    "\n",
    "Download Git from [git-scm.com](https://git-scm.com/) and just follow the instructions.\n",
    "\n",
    "> **Note** If you are running OS X 10.6, 10.7, or 10.8, you will need to install the version of git from here: [Git installer for OS X Snow Leopard](https://sourceforge.net/projects/git-osx-installer/files/git-2.3.5-intel-universal-snow-leopard.dmg/download)\n",
    "\n",
    "<!--endsec-->\n",
    "\n",
    "### Debian or Ubuntu \n",
    "<!--sec data-title=\"Debian or Ubuntu\" data-id=\"git_install_debian_ubuntu\"\n",
    "data-collapse=true ces-->\n",
    "\n",
    "> command-line\n",
    "\n",
    "```bash\n",
    "$ sudo apt-get install git\n",
    "```\n",
    "\n",
    "<!--endsec-->"
   ]
  },
  {
   "cell_type": "markdown",
   "metadata": {},
   "source": [
    "## Download the notebooks for 'rocketgirls19' from GitHub\n",
    "\n",
    "First you will download the code for this tutorial. \n",
    "\n",
    "- Go to GitHub and sign in with your free user account. (If you haven't one already, sign up for one'). \n",
    "- Search for 'code like a journo' - https://github.com/P3nny/rocketgirls19\n",
    "- click on the green 'Clone or Download'-button and copy the URL: https://github.com/P3nny/rocketgirls19.git\n",
    "\n",
    "- Start your terminal, change into a directory where you want to store the files from this workshop \n",
    "- Then type 'git clone' and paste the URL: \n",
    "    \n",
    "    ``` git clone https://github.com/P3nny/rocketgirls19.git ```\n",
    "    \n",
    "This will download all the notebooks, solutions and installation files to your computer.  "
   ]
  },
  {
   "cell_type": "markdown",
   "metadata": {},
   "source": [
    "Change via ```cd```\n",
    "\n",
    "into the 'code-like-a-journo' folder, then cd into 'yourfiles', it should contain a file named 'requirements.txt'. \n",
    "\n",
    "Proove that it's there by running \n",
    "\n",
    "```ls``` on OSX and Linux \n",
    "\n",
    "or \n",
    "\n",
    "```dir``` on windows. "
   ]
  },
  {
   "cell_type": "markdown",
   "metadata": {
    "deletable": true,
    "editable": true
   },
   "source": [
    "# Set up virtualenv and install librarys\n",
    "\n",
    "> Part of this section is based on tutorials by Geek Girls Carrots (https://github.com/ggcarrots/django-carrots).\n",
    "\n",
    "> Part of this section is based on the django-marcador tutorial licensed under the Creative Commons Attribution-ShareAlike 4.0 International License. The django-marcador tutorial is copyrighted by Markus Zapke-Gründemann et al.\n",
    "\n",
    "## Virtual environment\n",
    "\n",
    "Before we install the needed librarys we will get you to install an extremely useful tool to help keep your coding environment tidy on your computer. It's possible to skip this step, but it's highly recommended. Starting with the best possible setup will save you a lot of trouble in the future!\n",
    "\n",
    "So, let's create a virtual environment (also called a virtualenv). Virtualenv will isolate your Python setup on a per-project basis. This means that any changes you make to one website won't affect any others you're also developing. Neat, right?\n",
    "\n",
    "All you need to do is find a directory in which you want to create the virtualenv; your home directory, for example. On Windows it might look like C:\\Users\\Name\\ (where Name is the name of your login).\n",
    "\n",
    "> NOTE: On Windows, make sure that this directory does not contain accented or special characters; if your  \n",
    "> username contains accented characters, use a different directory, for example C:\\djangogirls.\n",
    "\n",
    "For this tutorial we will be using the directory 'yourfiles':\n",
    "\n",
    "> command-line\n",
    "\n",
    "> ```\n",
    " $ pwd\n",
    " $ /username/code-like-a-journo/yourfiles\n",
    "> ```\n",
    "\n",
    "We will make a virtualenv called myvenv. The general command will be in the format:\n",
    "\n",
    "> command-line\n",
    "```\n",
    "$ python3 -m venv myvenv\n",
    "```\n",
    "\n",
    "### Windows\n",
    "\n",
    "To create a new virtualenv, you need to open the console (we told you about that a few chapters ago – remember?) and run C:\\Python35\\python -m venv myvenv. It will look like this:\n",
    "\n",
    "> command-line\n",
    "```\n",
    "C:\\Users\\Name\\code-like-a-journalist\\yourfiles> C:\\Python35\\python -m venv myvenv \n",
    "``` \n",
    "\n",
    "where C:\\Python35\\python is the directory in which you previously installed Python and myvenv is the name of your virtualenv. You can use any other name, but stick to lowercase and use no spaces, accents or special characters. It is also good idea to keep the name short – you'll be referencing it a lot!\n",
    "\n",
    "### Linux and OS X\n",
    "\n",
    "Creating a virtualenv on both Linux and OS X is as simple as running python3 -m venv myvenv. It will look like this:\n",
    "\n",
    "> command-line\n",
    "```\n",
    "$ python3 -m venv myvenv\n",
    "```\n",
    "\n",
    "myvenv is the name of your virtualenv. You can use any other name, but stick to lowercase and use no spaces. It is also good idea to keep the name short as you'll be referencing it a lot!\n",
    "\n",
    "> NOTE: On some versions of Debian/Ubuntu you may receive the following error:\n",
    "\n",
    "> command-line\n",
    "```\n",
    "The virtual environment was not created successfully because ensurepip is not available.  On Debian/Ubuntu systems, you need to install the python3-venv package using the following command.\n",
    "   apt-get install python3-venv\n",
    "You may need to use sudo with that command.  After installing the python3-venv package, recreate your virtual environment.```\n",
    "\n",
    "In this case, follow the instructions above and install the python3-venv package:\n",
    "\n",
    "> command-line\n",
    "```\n",
    "$ sudo apt-get install python3-venv ```\n",
    "\n",
    "> NOTE: On some versions of Debian/Ubuntu initiating the virtual environment like this currently gives the following error:\n",
    "\n",
    "> command-line\n",
    "```\n",
    "Error: Command '['/home/eddie/Slask/tmp/venv/bin/python3', '-Im', 'ensurepip', '--upgrade', '--default-pip']' returned non-zero exit status 1 ```\n",
    "\n",
    "To get around this, use the virtualenv command instead.\n",
    "\n",
    "> command-line\n",
    "```\n",
    "$ sudo apt-get install python-virtualenv\n",
    "$ virtualenv --python=python3.5 myvenv ```\n",
    "\n",
    "> NOTE: If you get an error like\n",
    "\n",
    "> command-line\n",
    "```\n",
    "E: Unable to locate package python3-venv\n",
    "``` \n",
    "\n",
    "then instead run:\n",
    "\n",
    "> command-line\n",
    "``` \n",
    "sudo apt install python3.5-venv\n",
    "``` "
   ]
  },
  {
   "cell_type": "markdown",
   "metadata": {
    "deletable": true,
    "editable": true
   },
   "source": [
    "## Working with virtualenv\n",
    "\n",
    "The command above will create a directory called myvenv (or whatever name you chose) that contains our virtual environment (basically a bunch of directory and files).\n",
    "\n",
    "### Windows\n",
    "\n",
    "Start your virtual environment by running:\n",
    "\n",
    "> command-line\n",
    "```\n",
    "C:\\Users\\Name\\yourfiles> myvenv\\Scripts\\activate ```\n",
    "> NOTE: on Windows 10 you might get an error in the Windows PowerShell that says execution of scripts is disabled > on this system. In this case, open another Windows PowerShell with the \"Run as Administrator\" option. Then try \n",
    "> typing the following command before starting your virtual environment:\n",
    "\n",
    "> command-line\n",
    "\n",
    "> ```C:\\WINDOWS\\system32> Set-ExecutionPolicy -ExecutionPolicy RemoteSigned\n",
    "    Execution Policy Change\n",
    "The execution policy helps protect you from scripts that you do not trust. Changing the execution policy might expose you to the security risks described in the about_Execution_Policies help topic at http://go.microsoft.com/fwlink/?LinkID=135170. Do you want to change the execution policy? [Y] Yes  [A] Yes to All  [N] No  [L] No to All  [S] Suspend  [?] Help (default is \"N\"): A \n",
    "```"
   ]
  },
  {
   "cell_type": "markdown",
   "metadata": {
    "deletable": true,
    "editable": true
   },
   "source": [
    "## Linux and OS X\n",
    "\n",
    "Start your virtual environment by running:\n",
    "\n",
    "> command-line\n",
    "```\n",
    "$ source myvenv/bin/activate \n",
    "```\n",
    "\n",
    "Remember to replace myvenv with your chosen virtualenv name!\n",
    "\n",
    "> NOTE: sometimes source might not be available. In those cases try doing this instead:\n",
    "\n",
    "> command-line\n",
    "```\n",
    "$ . myvenv/bin/activate\n",
    "``` \n",
    "\n",
    "You will know that you have virtualenv started when you see that the prompt in your console is prefixed with (myvenv).\n",
    "\n",
    "When working within a virtual environment, python will automatically refer to the correct version so you can use python instead of python3."
   ]
  },
  {
   "cell_type": "markdown",
   "metadata": {
    "collapsed": true,
    "deletable": true,
    "editable": true
   },
   "source": [
    "## Installing Python Packages\n",
    "\n",
    "Now that you have your `virtualenv` started, you can install the packages needed.\n",
    "\n",
    "Before we do that, we should make sure we have the latest version of `pip`, the software that we use to install:\n",
    "\n",
    "** command-line**\n",
    "```\n",
    "(myvenv) ~$ pip install --upgrade pip\n",
    "```\n",
    "\n",
    "Then run to install the librarys we will need:\n",
    "\n",
    "** command-line**\n",
    "```\n",
    "(myvenv) ~$ pip install -r requirements.txt\n",
    "```\n",
    "\n",
    "> If you get an error when calling pip on Windows platform, please check if your project pathname contains spaces, accents or special characters (for example, `C:\\Users\\User Name\\code-like-a-journalist\\your files`). If it does, please consider using another place without spaces, accents or special characters (suggestion: `C:\\...\\yourfiles`). Create a new virtualenv in the new directory, then delete the old one and try the above command again. (Moving the virtualenv directory won't work since virtualenv uses absolute paths.)\n",
    "\n",
    "#### WINDOWS\n",
    "Your command line might freeze after when you try to install. If this happens, instead of the above command use:\n",
    "\n",
    "**command-line**\n",
    "```\n",
    ">C:\\Users\\Name\\yourfiles> python -m pip install requirements.txt\n",
    "\n",
    "#### Linux\n",
    "> If you get an error when calling pip on Ubuntu 12.04 please run `python -m pip install -U --force-reinstall pip` to fix the pip installation in the virtualenv."
   ]
  },
  {
   "cell_type": "markdown",
   "metadata": {
    "deletable": true,
    "editable": true
   },
   "source": [
    "## Install a code editor\n",
    "\n",
    "There are a lot of different editors and it largely boils down to personal preference. Most Python programmers use complex but extremely powerful IDEs (Integrated Development Environments), such as PyCharm. As a beginner, however, that's probably less suitable; our recommendations are equally powerful, but a lot simpler.\n",
    "\n",
    "### Gedit\n",
    "\n",
    "Gedit is an open-source, free editor, available for all operating systems.\n",
    "\n",
    "[Download it here](https://wiki.gnome.org/Apps/Gedit#Download)"
   ]
  },
  {
   "cell_type": "markdown",
   "metadata": {
    "deletable": true,
    "editable": true
   },
   "source": [
    "### Why are we installing a code editor?\n",
    "\n",
    "You might be wondering why we are installing this special code editor software, rather than using something like Word or Notepad.\n",
    "\n",
    "The first reason is that code needs to be plain text, and the problem with programs like Word and Textedit is that they don't actually produce plain text, they produce rich text (with fonts and formatting), using custom formats like RTF (Rich Text Format).\n",
    "\n",
    "The second reason is that code editors are specialized for editing code, so they can provide helpful features like highlighting code with color according to its meaning, or automatically closing quotes for you.\n",
    "\n",
    "We'll see all this in action later. Soon, you'll come to think of your trusty old code editor as one of your favorite tools. :)"
   ]
  },
  {
   "cell_type": "markdown",
   "metadata": {},
   "source": [
    "## You do it \n",
    "\n",
    "### One more git clone \n",
    "Download the great pandas tutorial 'hands-on-analysis-python' by Sarah Guido (sarguido).\n",
    "The same way as we did it with the 'Code like a journalist' repo. \n",
    "\n",
    "### If you want to start right now \n",
    "If you want to have a quick first look at Git and Github, try this interactive tutorial: \n",
    "\n",
    "    https://try.github.io/"
   ]
  }
 ],
 "metadata": {
  "kernelspec": {
   "display_name": "Python 3",
   "language": "python",
   "name": "python3"
  },
  "language_info": {
   "codemirror_mode": {
    "name": "ipython",
    "version": 3
   },
   "file_extension": ".py",
   "mimetype": "text/x-python",
   "name": "python",
   "nbconvert_exporter": "python",
   "pygments_lexer": "ipython3",
   "version": "3.5.2"
  }
 },
 "nbformat": 4,
 "nbformat_minor": 2
}
